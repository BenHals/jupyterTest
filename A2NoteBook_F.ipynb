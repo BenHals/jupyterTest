{
 "cells": [
  {
   "cell_type": "markdown",
   "metadata": {},
   "source": [
    "# CS369 Assignment 2"
   ]
  },
  {
   "cell_type": "markdown",
   "metadata": {},
   "source": [
    "## _Ben Halstead, ID: 8345337_"
   ]
  },
  {
   "cell_type": "markdown",
   "metadata": {},
   "source": [
    "## Problem 1\n"
   ]
  },
  {
   "cell_type": "markdown",
   "metadata": {},
   "source": [
    "### A)"
   ]
  },
  {
   "cell_type": "markdown",
   "metadata": {},
   "source": [
    "To simulate a sequences, i used two classes, one for each site and one for a sequence. I also made a class to generate a sequence of a given length with a uniform distribution."
   ]
  },
  {
   "cell_type": "code",
   "execution_count": 1,
   "metadata": {
    "collapsed": false
   },
   "outputs": [],
   "source": [
    "import math, random\n",
    "#easy way to map number(as index) to base name\n",
    "BASES = ['A','C','G','T']\n",
    "class sequence:\n",
    "    #Class for a sequence of sites, has a method to check for mutations at a single given site\n",
    "    # the SiteIndex is used for problem 2, for insertions and deletions (printing the gaps mostly)\n",
    "\tdef __init__(self, startBases):\n",
    "\t\tself.bases = []\n",
    "\t\tself.length = 0\n",
    "\t\tfor i in startBases:\n",
    "\t\t\t#can make with a str for type or a tuple of type and siteIndex\n",
    "\t\t\tif(type(i) == type(str())):\n",
    "\t\t\t\tnB = base(i, self.length)\n",
    "\t\t\telif(type(i) == type(tuple())):\n",
    "\t\t\t\tnB = base(i[0],i[1])\n",
    "\t\t\tself.bases.append(nB)\n",
    "\t\t\tself.length += 1\n",
    "\tdef add(self, i, nB):\n",
    "\t\tself.bases.insert(i, base(nB,i))\n",
    "\t\tself.length += 1\n",
    "\t\tfor j in range(i+1,self.length):\n",
    "\t\t\tself.bases[j].siteIndex = j\n",
    "\tdef insert(self, i, seq):\n",
    "\t\t#insert a sequence after position i\n",
    "\t\tfor j in range(0,seq.length):\n",
    "\t\t\tseq.bases[j].siteIndex = -1\n",
    "\t\tself.bases[i:i] = seq.bases\n",
    "\t\tself.length += seq.length\n",
    "\tdef deleteSeq(self, i):\n",
    "\t\t#delete site i and the next 2 after\n",
    "\t\tnumDeletions = min(3, self.length-i)\n",
    "\t\tfor index in range(numDeletions):\n",
    "\t\t\tself.bases.pop(i)\n",
    "\t\t\tself.length -= 1\n",
    "\tdef stringRepr(self):\n",
    "\t\tstringR = \"\"\n",
    "\t\tfor b in self.bases:\n",
    "\t\t\tstringR+=b.__str__()\n",
    "\t\treturn stringR\n",
    "\tdef checkMutation(self, i, u):\n",
    "        #checks to see if a site should mutate.\n",
    "\t\trand = random.random()\n",
    "\t\tb = self.bases[i]\n",
    "\t\tif rand <= u:\n",
    "\t\t\tr = self.bases[i].mutate()\n",
    "\t\t\treturn r\n",
    "\t\telse:\n",
    "\t\t\treturn False\n",
    "\n",
    "\tdef getType(self, i):\n",
    "\t\treturn self.bases[i].type\n",
    "\tdef copy(self):\n",
    "\t\tnewSeq = []\n",
    "\t\tfor i in self.bases:\n",
    "\t\t\tnewSeq.append((i.type,i.siteIndex))\n",
    "\t\treturn sequence(newSeq)\n",
    "\tdef __str__(self):\n",
    "\t\treturn str(self.bases)\n",
    "\tdef __repr__(self):\n",
    "\t\treturn self.__repr__()\n",
    "\tdef __len__(self):\n",
    "\t\treturn self.length\n",
    "\n",
    "class base:\n",
    "    #Class for a single site, method to mutate into a different base\n",
    "\tdef __init__(self, initial, sI):\n",
    "\t\tif(initial in BASES):\n",
    "\t\t\tself.siteIndex = sI\n",
    "\t\t\tself.type = initial\n",
    "\t\t\tself.tIndex = BASES.index(initial)\n",
    "\n",
    "\tdef mutate(self):\n",
    "        #picks which new base to mutate into\n",
    "\t\tnewIndex = math.floor(random.random()*4)\n",
    "        #only mutates if it would change (3/4 probability)\n",
    "\t\tif(newIndex != self.tIndex):\n",
    "\t\t\tself.tIndex = newIndex\n",
    "\t\t\tself.type = BASES[newIndex]\n",
    "\t\t\treturn True\n",
    "\t\telse:\n",
    "\t\t\treturn False\n",
    "\n",
    "\tdef __str__(self):\n",
    "\t\t#return self.type+\":\"+str(self.siteIndex)\n",
    "\t\treturn str(self.type)\n",
    "\tdef __repr__(self):\n",
    "\t\treturn self.__str__()\n",
    "    \n",
    "def makeSeq(length):\n",
    "    #Constructs a uniform random sequence of bases\n",
    "\tse = []\n",
    "\tfor i in range(0,length):\n",
    "\t\tj = math.floor(random.random()*4)\n",
    "\t\tse.append(BASES[j])\n",
    "\treturn sequence(se)"
   ]
  },
  {
   "cell_type": "markdown",
   "metadata": {},
   "source": [
    "function q1 then uses these to simulate the evolution of two sequences from a common ancestor.\n",
    "A random sequence with uniform distribution is created with a given length, then two copies are made which will both be mutated separatly.\n",
    "For each timestep until the given ending time, each site in a child sequence has the checkMutation method called on it. If a mutation is found to have occured (chance $u$), the site has the mutate method called. This method Mutates the site with a $\\frac{3}{4}$ chance of changing, and a $\\frac{1}{4}$ chance of not changing and just returning. This gives an overall chance for each site in a sequence, per timestep, to mutate of $ \\frac{3}{4}u$\n",
    "After all timesteps are complete, the sequences are then compared to the ancestor and to each other, and the results printed.\n"
   ]
  },
  {
   "cell_type": "code",
   "execution_count": 21,
   "metadata": {
    "collapsed": false
   },
   "outputs": [],
   "source": [
    "def q1(sLength, t, u):\n",
    "    #make initial ancestor sequence\n",
    "    seq = makeSeq(sLength)\n",
    "    #start children sequences\n",
    "    s1 = seq.copy()\n",
    "    s2 = seq.copy()\n",
    "    s1DiffAnc = 0\n",
    "    s1DiffSib = 0\n",
    "    s2DiffAnc = 0\n",
    "    s2DiffSib = 0\n",
    "    #for each timestep\n",
    "    for j in range(0,t):\n",
    "        #for each site in sequences\n",
    "        for i in range(0,sLength):\n",
    "            #check if mutation occurs, will call mutate on bases if so\n",
    "            s1M = s1.checkMutation(i,u)\n",
    "            s2M = s2.checkMutation(i,u)\n",
    "    return seq,s1,s2\n",
    "def compareSeq(s1,s2):\n",
    "    diffs = 0\n",
    "    #check for differences site by site\n",
    "    for k in range(0,len(s1)):\n",
    "        #check s1 against s2\n",
    "        if s1.getType(k) != s2.getType(k):\n",
    "            diffs += 1\n",
    "    return diffs"
   ]
  },
  {
   "cell_type": "code",
   "execution_count": 27,
   "metadata": {
    "collapsed": false
   },
   "outputs": [
    {
     "name": "stdout",
     "output_type": "stream",
     "text": [
      "Ancestor:\tCTTTATCAGTCAATTACGATGGTCCTACGTAGACCCGGGTACCCATCAGC\n",
      "Sequence 1:\tCTTTAACAGGCAATCACGATGGTCCTACGTAGACCCGGGTACCCATCAGC\n",
      "Sequence 2:\tCTTTATCATTCAATTACGAGGGTCTTACGTAGACCCGGGTACACATCTAC\n",
      "S1 to Ancestor differences: 3\n",
      "S2 to Ancestor differences: 6\n",
      "S1 to S2 differences: 9\n"
     ]
    }
   ],
   "source": [
    "q1Anc, q1Child1, q1Child2 = q1(50, 10, 0.01)\n",
    "print(\"Ancestor:\\t\" + str(q1Anc.stringRepr()))\n",
    "print(\"Sequence 1:\\t\" + str(q1Child1.stringRepr()))\n",
    "print(\"Sequence 2:\\t\" + str(q1Child2.stringRepr()))\n",
    "print(\"S1 to Ancestor differences: \" + str(compareSeq(q1Anc,q1Child1)))\n",
    "print(\"S2 to Ancestor differences: \" + str(compareSeq(q1Anc,q1Child2)))\n",
    "print(\"S1 to S2 differences: \" + str(compareSeq(q1Child1,q1Child2)))"
   ]
  },
  {
   "cell_type": "markdown",
   "metadata": {},
   "source": [
    "### B)"
   ]
  },
  {
   "cell_type": "markdown",
   "metadata": {},
   "source": [
    "The Poisson distribution describes the probability of a given number of events occuring in a fixed interval of time. Since the number of mutations are independantly occuring events over a period of time, the number of them should be a poisson distribution.\n",
    "On each timestep, each site has a $u$ chance to mutate. Since there is a $\\frac{1}{4}$ chance to mutate to the same base, so overall a $\\frac{3}{4}u$ chance for each base to mutate on each timestep. Since there are $L$ sites and 2 sequences, this is a total of $2L\\frac{3}{4}u$ number of mutations for each timestep. Since there are $t$ timesteps, the expected value of mutations is $2tL\\frac{3}{4}u$ overall, so this will be the Poisson distribution parameter."
   ]
  },
  {
   "cell_type": "code",
   "execution_count": 4,
   "metadata": {
    "collapsed": false
   },
   "outputs": [],
   "source": [
    "def q2():\n",
    "    mean = 0\n",
    "    difs = []\n",
    "    #1000 pairs simulated\n",
    "    for i in range(0,1000):\n",
    "        #just calls the same function as in q1 to create pairs. d is then the difference between siblings.\n",
    "        q1Return = q1(1000, 25, 0.01)\n",
    "        #set d to be the returned sibling difference from q1\n",
    "        d = q1Return[5]\n",
    "        #adds difference to list\n",
    "        difs.append(d)\n",
    "        mean += d\n",
    "\n",
    "    sumSquaresM = 0\n",
    "    sumSquares = 0\n",
    "    mean = mean/1000\n",
    "    \n",
    "    #working out variance\n",
    "    for k in range(0, 1000):\n",
    "        sumSquares += pow(difs[k] - mean, 2)\n",
    "\n",
    "    sumSquares = sumSquares/1000\n",
    "\n",
    "\n",
    "    print(\"Mean: \" + str(mean))\n",
    "    print(\"Variance: \" + str(sumSquares))\n"
   ]
  },
  {
   "cell_type": "code",
   "execution_count": 5,
   "metadata": {
    "collapsed": false
   },
   "outputs": [
    {
     "name": "stdout",
     "output_type": "stream",
     "text": [
      "Mean: 295.637\n",
      "Variance: 198.479231\n"
     ]
    }
   ],
   "source": [
    "q2()"
   ]
  },
  {
   "cell_type": "markdown",
   "metadata": {},
   "source": [
    "In a poisson distribution, the mean and variance should be equal. A Poisson distribution with rate $2tL\\frac{3}{4}u$ with $t=25, u=0.01, l=1000$ would be have $mean = variance = 375$ which is not what we get here. This means the number of differences between pairs is not poisson distributed."
   ]
  },
  {
   "cell_type": "markdown",
   "metadata": {
    "collapsed": true
   },
   "source": [
    "### C)"
   ]
  },
  {
   "cell_type": "markdown",
   "metadata": {
    "collapsed": true
   },
   "source": [
    "The function i used to simulate the sequences for c is:"
   ]
  },
  {
   "cell_type": "code",
   "execution_count": 59,
   "metadata": {
    "collapsed": false
   },
   "outputs": [],
   "source": [
    "def q3():\n",
    "\tpABMap = {}\n",
    "\t#Evolves the sibling sequences\n",
    "\tq1Return = q1(10000,10,0.03)\n",
    "\ts1 = q1Return[1]\n",
    "\ts2 = q1Return[2]\n",
    "\t#for every pair of sites, add the combination to the count map\n",
    "\tfor i in range(0,s1.length):\n",
    "\t\ta = s1.getType(i)\n",
    "\t\tb = s2.getType(i)\n",
    "\t\tif((a,b) not in pABMap):\n",
    "\t\t\tpABMap[(a,b)] = 0\n",
    "\t\tpABMap[(a,b)] += 1\n",
    "\t#print(pABMap)\n",
    "\tF = []\n",
    "\t#Construct probability matrix\n",
    "\tfor i,r in enumerate(BASES):\n",
    "\t\tF.append([])\n",
    "\t\tfor c in BASES:\n",
    "\t\t\tF[i].append(pABMap[(r,c)])\n",
    "\t#print(F)\n",
    "\t#Change F from counts to row probabilities\n",
    "\tfor r in range(0,len(F)):\n",
    "\t\trowTotal = sum(F[r])\n",
    "\t\tfor c in range(0, len(F[0])):\n",
    "\t\t\tF[r][c] = F[r][c]/rowTotal\n",
    "\t#print(F)\n",
    "\tprint(\"P_ab when a = b theoretical: \" +str(round(((1/4)+(3/4)*math.exp(-2*10*0.03))*100)/100))\n",
    "\tprint(\"P_ab when a != b theoretical: \" +str(round(((1/4)-(1/4)*math.exp(-2*10*0.03))*100)/100))\n",
    "\tprint(\"Estimates: \")\n",
    "\ttopRow = \"\"\n",
    "\tfor k in BASES:\n",
    "\t\ttopRow += (\"\\t\"+k)\n",
    "\tprint(topRow)\n",
    "\tfor r in range(0,len(F)):\n",
    "\t\trowStr = BASES[r]\n",
    "\t\tfor c in range(0, len(F[0])):\n",
    "\t\t\trowStr += \"\\t\"+str(round(F[r][c]*100)/100)\n",
    "\t\tprint(rowStr)"
   ]
  },
  {
   "cell_type": "code",
   "execution_count": 60,
   "metadata": {
    "collapsed": false
   },
   "outputs": [
    {
     "name": "stdout",
     "output_type": "stream",
     "text": [
      "P_ab when a = b theoretical: 0.66\n",
      "P_ab when a != b theoretical: 0.11\n",
      "Estimates: \n",
      "\tA\tC\tG\tT\n",
      "A\t0.67\t0.12\t0.11\t0.11\n",
      "C\t0.11\t0.66\t0.12\t0.11\n",
      "G\t0.11\t0.12\t0.66\t0.11\n",
      "T\t0.12\t0.11\t0.12\t0.66\n"
     ]
    }
   ],
   "source": [
    "q3()"
   ]
  },
  {
   "cell_type": "markdown",
   "metadata": {},
   "source": [
    "My estimates are ~ the theoretical values, so are most likly correct."
   ]
  },
  {
   "cell_type": "markdown",
   "metadata": {},
   "source": [
    "## Problem 2"
   ]
  },
  {
   "cell_type": "markdown",
   "metadata": {
    "collapsed": true
   },
   "source": [
    "For the insertions and deletions, I made two functions, which take in a sequence, the ancestor length, time and u. Using a function based on knuth's algorithm to generate a poisson random variable, the functions get a random number of insertions or deletions, then work out the indexs where these should occur (chosen uniform randomly from the original sequence). these indexes are then put into decending order, so when insertions and deletions occur it doesnt mess up the ones after, since lower indexes will be uneffected. "
   ]
  },
  {
   "cell_type": "code",
   "execution_count": 8,
   "metadata": {
    "collapsed": true
   },
   "outputs": [],
   "source": [
    "def poissonRV(para):\n",
    "\t#using knuth's algorithm for generating a poisson distributed number.\n",
    "\tL = math.exp(para*-1)\n",
    "\tk = 0\n",
    "\tp = 1\n",
    "\twhile p> L:\n",
    "\t\tu = random.random()\n",
    "\t\tk += 1\n",
    "\t\tp = p*u\n",
    "\treturn k-1"
   ]
  },
  {
   "cell_type": "code",
   "execution_count": 78,
   "metadata": {
    "collapsed": false
   },
   "outputs": [],
   "source": [
    "def insertions(seq, sLength, t, u):\n",
    "\t#draw a poisson random variate with rate Ltu/10 to give us the number of insertions\n",
    "\tnumInsertions = poissonRV(sLength*t*u/10)\n",
    "\tnewSeq = seq.copy()\n",
    "\tfor i in range(0,numInsertions):\n",
    "\t\trandI = math.floor(random.random()*seq.length)\n",
    "\t\t#make a uniform random sequence of length 3\n",
    "\t\tinSeq = makeSeq(3)\n",
    "\t\t#insert in position after index\n",
    "\t\tnewSeq.insert(randI+1, inSeq)\n",
    "\treturn (newSeq,numInsertions)\n",
    "\t#insertionIndexs = []\n",
    "\t##find the indexes of the original we will be adding to. These are uniformly randomly chosen\n",
    "\t#for j in range(0,numInsertions):\n",
    "\t#\trandI = math.floor(random.random()*seq.length)\n",
    "\t#\tinsertionIndexs.append(randI)\n",
    "\t##put indexes in decending order so when inserting it doesnt mess up index number\n",
    "\t#insertionIndexs.sort()\n",
    "\t#insertionIndexs.reverse()\n",
    "\t#newSeq = seq.copy()\n",
    "\t#for index in insertionIndexs:\n",
    "\t#\t#make a uniform random sequence of length 3\n",
    "\t#\tinSeq = makeSeq(3)\n",
    "\t#\t#insert in position after index\n",
    "\t#\tnewSeq.insert(index+1, inSeq)\n",
    "\n",
    "\t#return (newSeq,numInsertions)\n",
    "\n",
    "def deletions(seq, sLength, t, u):\n",
    "\t#draw a poisson random variate with rate Ltu/10 to give us the number of deletions\n",
    "\tnumDeletions = poissonRV(sLength*t*u/10)\n",
    "\tnewSeq = seq.copy()\n",
    "\tfor i in range(0,numDeletions):\n",
    "\t\trandI = math.floor(random.random()*seq.length)\n",
    "\t\t#make a uniform random sequence of length 3\n",
    "\t\tinSeq = makeSeq(3)\n",
    "\t\t#Delete from index\n",
    "\t\tnewSeq.deleteSeq(randI)\n",
    "\treturn (newSeq,numDeletions)\n",
    "\n",
    "\t#deletionIndexs = []\n",
    "\t##find the indexes of the original we will be deleting from. These are uniformly randomly chosen\n",
    "\t#for j in range(0,numDeletions):\n",
    "\t#\trandI = math.floor(random.random()*seq.length)\n",
    "\t#\tdeletionIndexs.append(randI)\n",
    "\t##put indexes in decending order so when deleting it doesnt mess up index number\n",
    "\t#deletionIndexs.sort()\n",
    "\t#deletionIndexs.reverse()\n",
    "\t#newSeq = seq.copy()\n",
    "\t#for index in deletionIndexs:\n",
    "\t#\t#make a uniform random sequence of length 3\n",
    "\t#\tinSeq = makeSeq(3)\n",
    "\t#\t#Delete from index\n",
    "\t#\tnewSeq.deleteSeq(index)\n",
    "\n",
    "\t#return (newSeq,numDeletions)"
   ]
  },
  {
   "cell_type": "markdown",
   "metadata": {},
   "source": [
    "To print out the sequence showing where insertions and deletions occur uses the siteIndex value for each base. A pointer is initialised at the start of each sequence, and the siteIndex of the site pair is looked at. If the siteIndexes match, the sites must have also been paired in the original mutated sequences, so they are just printed as is and both pointers advance. \n",
    "If either has a siteIndex of -1, it is an inserted value, so that is printed and a '-' is printed for the other sequence. Only the pointer that printed a letter is advanced.\n",
    "If either siteIndex is higher then the other, a deletion must have occured in that sequence, so a '-' is printed for that one and the letter for the other, only the other pointer is advanced.\n",
    "Once the end of one sequence is reached, the rest of the other is printed, with a corrisponding gap printing for the finished sequence. However, the siteIndex of the unfinished sequence is still kept track of incase of deletions which will show up as a jump in siteIndex. in this case '-' are appended until the jump is finished."
   ]
  },
  {
   "cell_type": "code",
   "execution_count": 79,
   "metadata": {
    "collapsed": true
   },
   "outputs": [],
   "source": [
    "def printWithChanges(s1,s2):\n",
    "\ta = 0\n",
    "\tb = 0\n",
    "\taString = []\n",
    "\tbString = []\n",
    "\twhile a < s1.length and b < s2.length:\n",
    "\t\taSiteI = s1.bases[a].siteIndex\n",
    "\t\tbSiteI = s2.bases[b].siteIndex\n",
    "\t\t# If equal, the sites match so print out both\n",
    "\t\tif(aSiteI == bSiteI):\n",
    "\t\t\taString.append(s1.getType(a))\n",
    "\t\t\tbString.append(s2.getType(b))\n",
    "\t\t\ta += 1\n",
    "\t\t\tb += 1\n",
    "\t\t# if one is an insertion, print it and a gap for other\n",
    "\t\telif(aSiteI == -1):\n",
    "\t\t\taString.append(s1.getType(a))\n",
    "\t\t\tbString.append('-')\n",
    "\t\t\ta += 1\n",
    "\t\telif(bSiteI == -1):\n",
    "\t\t\tbString.append(s2.getType(b))\n",
    "\t\t\taString.append('-')\n",
    "\t\t\tb += 1\n",
    "\t\t#if there is a deletion, one will have a higher site index then the other, so print the other and a gap for the sequence with deletions\n",
    "\t\telif(aSiteI > bSiteI):\n",
    "\t\t\t#deletion in a\n",
    "\t\t\tbString.append(s2.getType(b))\n",
    "\t\t\taString.append('-')\n",
    "\t\t\tb += 1\n",
    "\t\telif(bSiteI>aSiteI):\n",
    "\t\t\t#deletion in b\n",
    "\t\t\taString.append(s1.getType(a))\n",
    "\t\t\tbString.append('-')\n",
    "\t\t\ta += 1\n",
    "\tif( a == s1.length):\n",
    "\t\t# a sequence done, do add on rest of b with deletions\n",
    "\t\tprevSI = b\n",
    "\t\tfor j in range(b+1, s2.length):\n",
    "\t\t\tnextIndex = s2.bases[j].siteIndex\n",
    "\t\t\twhile nextIndex != prevSI+1:\n",
    "\t\t\t\tbString.append('-')\n",
    "\t\t\t\tprevSI+=1\n",
    "\t\t\tbString.append(s2.getType(nextIndex))\n",
    "\t\t\taString.append('-')\n",
    "\t\t\tprevSI = j\n",
    "\tif( b == s2.length):\n",
    "\t\t# a sequence done,  add on rest of a with deletions\n",
    "\t\tprevSI = a\n",
    "\t\tfor j in range(a+1, s1.length):\n",
    "\t\t\tnextIndex = s1.bases[j].siteIndex\n",
    "\t\t\twhile nextIndex != prevSI+1:\n",
    "\t\t\t\taString.append('-')\n",
    "\t\t\t\tprevSI+=1\n",
    "\t\t\taString.append(s1.getType(nextIndex))\n",
    "\t\t\tbString.append('-')\n",
    "\t\t\tprevSI = j\n",
    "\tprint(''.join(aString))\n",
    "\tprint(''.join(bString))"
   ]
  },
  {
   "cell_type": "markdown",
   "metadata": {
    "collapsed": true
   },
   "source": [
    "Now, to simulate the new mutations the function is able to just create two mutated sibling sequences with the q1 code, then run the insertion then deletion functions on both. This creates two sibling sequences with all mutations, insertions and deletions."
   ]
  },
  {
   "cell_type": "code",
   "execution_count": 94,
   "metadata": {
    "collapsed": false
   },
   "outputs": [],
   "source": [
    "def p2q1(sLength, t, u):\n",
    "\t#simulate mutations\n",
    "    #loop in case there are no insertions or deletions, in which case we just try again\n",
    "\twhile True:\n",
    "\t\tq1Return = q1(sLength, t, u)\n",
    "\t\tA = q1Return[1]\n",
    "\t\tB = q1Return[2]\n",
    "\t\tA,niA = insertions(A, sLength, t, u)\n",
    "\t\tA,ndA = deletions(A, sLength, t, u)\n",
    "\t\tB,niB = insertions(B, sLength, t, u)\n",
    "\t\tB,ndB = deletions(B, sLength, t, u)\n",
    "\t\tif(niA+ndA+niB+ndB != 0):\n",
    "\t\t\tbreak\n",
    "\tprintWithChanges(A,B)\n",
    "\treturn (A,B)"
   ]
  },
  {
   "cell_type": "markdown",
   "metadata": {},
   "source": [
    "The insertion/deletion functions return the number of each that is performed, if the total sum of these is 0, the function is called again to ensure something interesting actually happens.\n",
    "Otherwise, the print funtion is called to print the sequences."
   ]
  },
  {
   "cell_type": "code",
   "execution_count": 93,
   "metadata": {
    "collapsed": false
   },
   "outputs": [
    {
     "name": "stdout",
     "output_type": "stream",
     "text": [
      "ATTT---TCACCTG--CCCCATC---GAGGTCGACCCGCCGACGATTTCATAACCTTC\n",
      "ATAAGACGCACCCGCT--GCATATGAGAGGCC---ACGCGGACGAG---ATCACCTTC\n"
     ]
    }
   ],
   "source": [
    "seqA,seqB = p2q1(50, 20, 0.01)"
   ]
  },
  {
   "cell_type": "markdown",
   "metadata": {},
   "source": [
    "### B)"
   ]
  },
  {
   "cell_type": "markdown",
   "metadata": {
    "collapsed": true
   },
   "source": [
    "A poisson distribution models the occurances of rare events over time if the events are independant of eachother.With the model of insertions and deletions in 2A, the number of insertions and deletions is based off of the original L, so each I/D is Independant of eachother. For the model in 2B, after each insertion or deletion the length of the sequences are effected. Since the rate of overall insertions/deletions is dependant of the length of the sequence (each site has a chance to add an insertion or deletion, so more sites = more I/D), This means each event is effecting the events after it so the events are not independant of eachother, so the total number of insertons and deletions is _not_ poisson distributed. "
   ]
  },
  {
   "cell_type": "markdown",
   "metadata": {},
   "source": [
    "# Problem 3"
   ]
  },
  {
   "cell_type": "markdown",
   "metadata": {},
   "source": [
    "### a)"
   ]
  },
  {
   "cell_type": "markdown",
   "metadata": {},
   "source": [
    "My overlap alignment function is based on the given pseudocode. First the f matrix is initialised with len(s1)+1 rows and len(s2)+1 columns. The +1 is for the additional 0 row and column at the start. Each matrix value has a value, which is initialised with a 0 if in the first row or column (this is because this is an overlap alignment, so we dont penalize gaps at the start) or None otherwise. \n",
    "Each node in the matrix takes the form:\n",
    "[value, previous node in path, print value for s1, print value for s2, [rowIndex, colIndex]]\n",
    "\n",
    "Then the matrix is filled in according to the needleman-welch algorithm, taking the max match, gapS1 or gapS2 score and saving the previous node as the path. \n",
    "\n",
    "Then there is some extra code for looking at the left/bottom edge for the max value (This is to not penalize gaps at the end of the alignment) and traversing back through the path and printing each nodes print values (in reverse order).\n",
    "\n",
    "Since the alignment is an overlap alignment, the aligned part might not start at the start or end at the end of both at the same time. Thus we need to print the extras aligned with gaps. This is what the code at the end is doing.\n"
   ]
  },
  {
   "cell_type": "code",
   "execution_count": 97,
   "metadata": {
    "collapsed": true
   },
   "outputs": [],
   "source": [
    "def overlapAlignment(s1,s2,score,gapPen):\n",
    "\tf = []\n",
    "\tfor iR, j in enumerate([0]+s1):\n",
    "\t\tf.append([])\n",
    "\t\tfor iC,k in enumerate([0]+s2):\n",
    "\t\t\tif(iR ==0 or iC == 0):\n",
    "\t\t\t\tf[iR].append([0,None,None,None,[iR,iC]])\n",
    "\t\t\telse:\n",
    "\t\t\t\tf[iR].append([None,None,None,None,[iR,iC]])\n",
    "\n",
    "\tfor iC,k in enumerate(s2):\n",
    "\t\tfor iR, j in enumerate(s1):\n",
    "\t\t\tiCol = iC+1\n",
    "\t\t\tiRow = iR+1\n",
    "\t\t\tmatchLetterS1 = BASES.index(j)\n",
    "\t\t\tmatchLetterS2 = BASES.index(k)\n",
    "\t\t\tmatchScore = score[matchLetterS1][matchLetterS2]\n",
    "            #gap penalty is subtracted, so given as a positive in input.\n",
    "\t\t\tMatch = [f[iRow-1][iCol-1][0] + matchScore, f[iRow-1][iCol-1], j,k,[iRow,iCol]]\n",
    "\t\t\tGapS1 = [f[iRow-1][iCol][0] - gapPen, f[iRow-1][iCol], j,'-',[iRow,iCol]]\n",
    "\t\t\tGapS2 = [f[iRow][iCol-1][0] - gapPen, f[iRow][iCol-1], '-',k,[iRow,iCol]]\n",
    "\n",
    "\t\t\tmaxTo = max([Match,GapS1,GapS2], key= lambda item:item[0])\n",
    "\t\t\tf[iRow][iCol] = maxTo\n",
    "\n",
    "\tendsList = []\n",
    "\tfor r in range(0,len(f)):\n",
    "\t\tfor c in range(0,len(f[0])):\n",
    "\t\t\tif(r == len(f)-1 or c == len(f[0])-1):\n",
    "\t\t\t\tendsList.append(f[r][c])\n",
    "\tmaxEnd = max(endsList, key=lambda item:item[0])\n",
    "\ts1Path = []\n",
    "\ts2Path = []\n",
    "\ts1Path.append(maxEnd[2])\n",
    "\ts2Path.append(maxEnd[3])\n",
    "\tfromPointer = maxEnd[1]\n",
    "\twhile fromPointer != None:\n",
    "\t\ts1Path.append(fromPointer[2])\n",
    "\t\ts2Path.append(fromPointer[3])\n",
    "\t\tif(fromPointer[1][2] == None):\n",
    "\t\t\tbreak\n",
    "\t\tfromPointer = fromPointer[1]\n",
    "\ts1Path.reverse()\n",
    "\ts2Path.reverse()\n",
    "\tstartIS1 = fromPointer[4][0]-1\n",
    "\tstartIS2 = fromPointer[4][1]-1\n",
    "\tif(startIS1>startIS2):\n",
    "\t\ts1Start = s1[0:startIS1]\n",
    "\t\ts2Start = ['-']*len(s1Start)\n",
    "\telse:\n",
    "\t\ts2Start = s2[0:startIS2]\n",
    "\t\ts1Start = ['-']*len(s2Start)\n",
    "\n",
    "\tendIS1 = maxEnd[4][0]\n",
    "\tendIS2 = maxEnd[4][1]\n",
    "\tif(endIS1<endIS2):\n",
    "\t\ts1End = s1[endIS1:]\n",
    "\t\ts2End = ['-']*len(s1End)\n",
    "\telse:\n",
    "\t\ts2End = s2[endIS2:]\n",
    "\t\ts1End = ['-']*len(s2End)\n",
    "\tprint(''.join(s1Start+s1Path+s1End))\n",
    "\tprint(''.join(s2Start+s2Path+s2End))"
   ]
  },
  {
   "cell_type": "markdown",
   "metadata": {},
   "source": [
    "When the function is run, to run it on the first 35 bases in B and last 35 bases in C (from 2A)  i used the string split function on the stored values from above. Note: the gap penalty is given as positive, since it is subtracted in the code."
   ]
  },
  {
   "cell_type": "code",
   "execution_count": 98,
   "metadata": {
    "collapsed": false
   },
   "outputs": [
    {
     "name": "stdout",
     "output_type": "stream",
     "text": [
      "ATTTTCACCTGCCCCATCGAGGTCGACCCGCCGACG-----------\n",
      "---------TG-CATAT-GA-GAGGCCACGCGGACGAGATCACCTTC\n"
     ]
    }
   ],
   "source": [
    "\n",
    "overlapAlignment(list(seqA.stringRepr())[:36],list(seqB.stringRepr()[-35:]), [[2,-2,-2,-2],[-2,2,-2,-2],[-2,-2,2,-2],[-2,-2,-2,2]], 3)"
   ]
  },
  {
   "cell_type": "code",
   "execution_count": 99,
   "metadata": {
    "collapsed": false
   },
   "outputs": [
    {
     "name": "stdout",
     "output_type": "stream",
     "text": [
      "gap score of -4\n",
      "ATTTTCACCTGCCCCATCGAGGTCGACCCGCCGACG-----------\n",
      "---------TG-CATAT-GA-GAGGCCACGCGGACGAGATCACCTTC\n",
      "gap score of -2\n",
      "ATTTTCACCTGCCCCATCGAG-GTCGACC-CGCCGACG-----------\n",
      "---------TG-CATAT-GAGAG--G-CCACGCGGACGAGATCACCTTC\n",
      "gap score of -1\n",
      "ATTTTCACCTGCCCCAT-CGAG-GTCGACC-CGCCGACG-----------\n",
      "---------TG---CATATGAGAG--G-CCACGCGGACGAGATCACCTTC\n"
     ]
    }
   ],
   "source": [
    "print(\"gap score of -4\")\n",
    "overlapAlignment(list(seqA.stringRepr())[:36],list(seqB.stringRepr()[-35:]), [[2,-2,-2,-2],[-2,2,-2,-2],[-2,-2,2,-2],[-2,-2,-2,2]], 4)\n",
    "print(\"gap score of -2\")\n",
    "overlapAlignment(list(seqA.stringRepr())[:36],list(seqB.stringRepr()[-35:]), [[2,-2,-2,-2],[-2,2,-2,-2],[-2,-2,2,-2],[-2,-2,-2,2]], 2)\n",
    "print(\"gap score of -1\")\n",
    "overlapAlignment(list(seqA.stringRepr())[:36],list(seqB.stringRepr()[-35:]), [[2,-2,-2,-2],[-2,2,-2,-2],[-2,-2,2,-2],[-2,-2,-2,2]], 1)"
   ]
  },
  {
   "cell_type": "markdown",
   "metadata": {},
   "source": [
    "The harsher the gap penalty is compared to the penalty for mismatching bases, the algorithm will try to replace more gaps with mismatched bases. The best result will depend on what the alignment is going to be used for, if for example you wanted to change one sequence into the other, and gaps are easy to do and changing one base into anouther is hard, you would want a low gap penalty and a high mismatch penalty, so something like the gap sequence of -1 would most likly be the best.\n",
    "\n",
    "For string matching, just visually comparing the alignments, the lower gap penalty compared to mismatch penalty also seems the best. Gaps are easy to visually skip over, but mismatched letters make the alignment seem worse even if the alogrithmic scores are better. So in my opinion a value for the gap penalty of -1 seems the best. "
   ]
  },
  {
   "cell_type": "code",
   "execution_count": null,
   "metadata": {
    "collapsed": true
   },
   "outputs": [],
   "source": []
  }
 ],
 "metadata": {
  "kernelspec": {
   "display_name": "Python 3",
   "language": "python",
   "name": "python3"
  },
  "language_info": {
   "codemirror_mode": {
    "name": "ipython",
    "version": 3
   },
   "file_extension": ".py",
   "mimetype": "text/x-python",
   "name": "python",
   "nbconvert_exporter": "python",
   "pygments_lexer": "ipython3",
   "version": "3.5.1"
  }
 },
 "nbformat": 4,
 "nbformat_minor": 0
}
