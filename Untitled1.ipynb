{
 "cells": [
  {
   "cell_type": "markdown",
   "metadata": {},
   "source": [
    "# Problem 1\n"
   ]
  },
  {
   "cell_type": "markdown",
   "metadata": {},
   "source": [
    "A)  To simulate a sequences, i used two classes, one for each site and one for a sequence."
   ]
  },
  {
   "cell_type": "code",
   "execution_count": 2,
   "metadata": {
    "collapsed": true
   },
   "outputs": [],
   "source": [
    "class sequence:\n",
    "\tdef __init__(self, startBases):\n",
    "\t\tself.bases = []\n",
    "\t\tself.length = 0\n",
    "\t\tfor i in startBases:\n",
    "\t\t\tnB = base(i)\n",
    "\t\t\tself.bases.append(nB)\n",
    "\t\t\tself.length += 1\n",
    "\tdef add(self, i, nB):\n",
    "\t\tself.bases.insert(i, base(nB))\n",
    "\t\tself.length += 1\n",
    "\n",
    "\tdef checkMutation(self, i, u):\n",
    "\t\trand = random.random()\n",
    "\t\tb = self.bases[i]\n",
    "\t\tif rand <= u:\n",
    "\t\t\tr = self.bases[i].mutate()\n",
    "\t\t\treturn r\n",
    "\t\telse:\n",
    "\t\t\treturn False\n",
    "\n",
    "\tdef getType(self, i):\n",
    "\t\treturn self.bases[i].type\n",
    "\tdef copy(self):\n",
    "\t\tnewSeq = []\n",
    "\t\tfor i in self.bases:\n",
    "\t\t\tnewSeq.append(i.type)\n",
    "\t\treturn sequence(newSeq)\n",
    "\tdef __str__(self):\n",
    "\t\treturn str(self.bases)\n",
    "\tdef __repr__(self):\n",
    "\t\treturn self.__repr__()\n",
    "\tdef __len__(self):\n",
    "\t\treturn self.length\n",
    "\n",
    "class base:\n",
    "\tdef __init__(self, initial):\n",
    "\t\tif(initial in BASES):\n",
    "\t\t\tself.type = initial\n",
    "\t\t\tself.tIndex = BASES.index(initial)\n",
    "\n",
    "\tdef mutate(self):\n",
    "\t\tnewIndex = math.floor(random.random()*4)\n",
    "\t\tif(newIndex != self.tIndex):\n",
    "\t\t\tself.tIndex = newIndex\n",
    "\t\t\tself.type = BASES[newIndex]\n",
    "\t\t\treturn True\n",
    "\t\telse:\n",
    "\t\t\treturn False\n",
    "\n",
    "\tdef __str__(self):\n",
    "\t\treturn self.type\n",
    "\tdef __repr__(self):\n",
    "\t\treturn self.__str__()"
   ]
  },
  {
   "cell_type": "markdown",
   "metadata": {},
   "source": []
  }
 ],
 "metadata": {
  "kernelspec": {
   "display_name": "Python 3",
   "language": "python",
   "name": "python3"
  },
  "language_info": {
   "codemirror_mode": {
    "name": "ipython",
    "version": 3
   },
   "file_extension": ".py",
   "mimetype": "text/x-python",
   "name": "python",
   "nbconvert_exporter": "python",
   "pygments_lexer": "ipython3",
   "version": "3.5.1"
  }
 },
 "nbformat": 4,
 "nbformat_minor": 0
}
